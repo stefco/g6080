{
 "cells": [
  {
   "cell_type": "markdown",
   "metadata": {},
   "source": [
    "## 1. Cosine recursion\n",
    "\n",
    "I implemented a (buggy) version of the cosine recursion function, but did not iron out the kinds, as evidenced by this plot:\n",
    "\n",
    "![wonky cosine recursion](cos_recursion_stefan.pdf)"
   ]
  },
  {
   "cell_type": "markdown",
   "metadata": {},
   "source": [
    "## 2. Timing funcitons\n",
    "\n",
    "I ran each program test times in order to gauge consistency and get a good average, and in each test I performed the operation of interest 10,000 times. The results, with and without optimization, appear below:\n",
    "\n",
    "![no optimization](q2/Compute Time for Single Operations, GCC Optimization Level 0.pdf)\n",
    "![max optimization](q2/Compute Time for Single Operations, GCC Optimization Level 3.pdf)\n",
    "\n",
    "There is a clear improvement in speed for most operations when the higher level of compiler optimization is employed. Also interesting is the improved consistency in some functions, likely due to smarte cache usage (I would say garbage collecting as well, but C doesn't use GC)."
   ]
  },
  {
   "cell_type": "markdown",
   "metadata": {},
   "source": [
    "## 3. Bessel back recursion\n",
    "\n",
    "This recursion converges extremely quickly. The below graph shows that it reaches 4-decimal precision in a couple of steps, 8-digit precision in around 3, and approaches the same order of magnitude as machine precision within around 5 steps (depending somewhat on what value of x the Bessel function is being calculated for):\n",
    "\n",
    "![Bessel](q3/Error while Calculating besseli2.pdf)"
   ]
  }
 ],
 "metadata": {
  "kernelspec": {
   "display_name": "Julia 0.3.7",
   "language": "julia",
   "name": "julia 0.3"
  },
  "language_info": {
   "name": "julia",
   "version": "0.3.7"
  }
 },
 "nbformat": 4,
 "nbformat_minor": 0
}
