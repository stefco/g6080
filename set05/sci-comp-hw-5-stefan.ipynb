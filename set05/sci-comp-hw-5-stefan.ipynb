{
 "cells": [
  {
   "cell_type": "markdown",
   "metadata": {},
   "source": [
    "## 1. Poisson's Equation\n",
    "\n",
    "### Preliminaries\n",
    "\n",
    "We're looking to solve Poisson's equation for electrostatics (given in dimensionless units, so that $\\epsilon_{0} = 1$) on an $(N+1) \\times (N+1)$ unit grid:\n",
    "\n",
    "$$\n",
    "  \\Delta \\phi = -\\rho\n",
    "$$\n",
    "\n",
    "Here, $\\rho$ is zero except at $\\vec{x} = (0.5 + a/2, 0.25 + a/2)$, where it equals $2\\delta(\\vec{x})$. Since we're including points along the border, the distance between neighboring grid points is $h = 1/N$. We can express the discretized Laplacian, acting on the $N^2$-vector of potentials on the grid, as:\n",
    "\n",
    "$$\n",
    "  \\Delta_{i,j} \\phi_{j} = \\frac{4\\phi_{i} - \\phi_{i+1} - \\phi_{i-1} - \\phi_{i+N} - \\phi_{i-N}}{h^2}\n",
    "  = N^2 \\Big(4\\phi_{i} - \\phi_{i+1} - \\phi_{i-1} - \\phi_{i+N} - \\phi_{i-N}\\Big)\n",
    "$$\n",
    "\n",
    "so that the Laplacian matrix itself can be expressed in terms of Kronecker deltas as\n",
    "\n",
    "$$\n",
    "  \\Delta_{i,j} = N^2 \\Big(4\\delta_{i,j} - \\delta_{i+1,j} - \\delta_{i-1,j} - \\delta_{i+N,j} - \\delta_{i-N,j}\\Big)\n",
    "$$\n",
    "\n",
    "which, it's worth noting, is a symmetric matrix. \n",
    "\n",
    "We have inhomogenous boundary conditions ($\\phi = 10$) for the rectangle centered at (0.625, 0.75) and homogenous boundary conditions along the perimeter of the grid. Since these values of $\\phi$ are fixed, they cannot figure into the $\\Delta\\phi=-\\rho$ problem, in the sense that $\\rho$ cannot be fixed if $\\phi$ is held fixed (the equivalent physical analogy is the surface of a conductor in electrostatics). So for any _fixed_ $\\phi_{i}$, we can set $\\rho_{i} = 0 \\implies \\Delta_{i,j} = 0 \\ \\ \\forall \\ \\ j$. In other words, for each $i$ such that $\\phi_{i}$ is held constant, we set the $i^{th}$ row of $\\Delta$ equal to zero. This assures us that $\\phi$ only depends on $\\rho$ through the boundary conditions.\n",
    "\n",
    "Since the conjugate gradient method depends on the symmetry of a matrix, we'll have to deal with the nonzero terms in the $i^{th}$ _column_ of $\\Delta$ before zeroing the $i^{th}$ row, which are:\n",
    "\n",
    "$$\n",
    "  \\Delta_{j,i} = N^2 \\Big(4\\delta_{i,j} - \\delta_{i,j+1} - \\delta_{i,j-1} - \\delta_{i,j+N} - \\delta_{i,j-N}\\Big).\n",
    "$$"
   ]
  },
  {
   "cell_type": "markdown",
   "metadata": {},
   "source": [
    "Since these products are to be multiplied by the constant $\\phi$ values, we can move them over to the right hand side of Poisson's equation. First, define $\\beta_{i}$ so that it is one when $\\phi_{i}$ is a boundary condition and zero otherwise. Then we split $\\phi$ into fixed and free components\n",
    "\n",
    "$$\n",
    "  \\vec{\\phi} = \\vec{\\phi}_{free} + \\vec{\\phi}_{boundary}\n",
    "$$\n",
    "\n",
    "where\n",
    "\n",
    "$$\n",
    "  \\vec{\\phi}_{boundary} \\equiv \\sum_{i} \\vec{\\phi}^{T} \\hat{e}_{i} \\beta_{i}\n",
    "$$\n",
    "\n",
    "and $\\vec{\\phi}_{free} = \\vec{\\phi} - \\vec{\\phi}_{boundary}$. We can similarly split $\\Delta$ by its columns,\n",
    "\n",
    "$$\n",
    "  \\Delta = \\Delta_{free} + \\Delta_{boundary},\n",
    "$$\n",
    "\n",
    "so that the columns corresponding to boundary values in $\\Delta_{free}$ are zero, i.e., independent of fixed quantities, implying $\\Delta_{free} \\vec{\\phi}_{boundary} = \\Delta_{boundary} \\vec{\\phi}_{free} = 0$. Then Poisson's equation becomes\n",
    "\n",
    "$$\n",
    "  \\Delta_{free} \\phi_{free} = -(\\rho +\\Delta_{boundary} \\phi_{boundary}) \\equiv -\\rho_{boundary}\n",
    "$$\n",
    "\n",
    "where $\\rho_{boundary}$ now contains the potential boundary conditions as well as the charge density. The left hand side is now free of fixed quantities; we can zero the boundary rows on both sides by taking the elemental product with the sum of free identity vectors\n",
    "\n",
    "$$\n",
    "  e_{free} \\equiv \\sum_{free\\ i} \\hat{e}_{i} \n",
    "$$\n",
    "\n",
    "so that the equation becomes\n",
    "\n",
    "$$\n",
    "  \\Delta_{eff} \\phi_{free} \\equiv \\Delta_{free} \\phi_{free} \\ .\\times\\ e_{free} \n",
    "  = -\\rho_{boundary} \\ .\\times\\ e_{free} \\equiv -\\rho_{eff}.\n",
    "$$\n",
    "\n",
    "or, more briefly,\n",
    "\n",
    "$$\n",
    "  \\Delta_{eff} \\phi_{free} = -\\rho_{eff}.\n",
    "$$"
   ]
  },
  {
   "cell_type": "markdown",
   "metadata": {},
   "source": [
    "Once we've solved for $\\phi_{free}$ using the conjugate gradient method, we can reconstitute the original equation and, if necessary, calculate the values of $\\rho$ that allowed for the boundary conditions.\n",
    "\n",
    "I also partially implemented a feature that splits off the free parameters into their own Poisson equation, but haven't ended up finishing it. Since $\\Delta_{eff}$, $\\phi_{free}$, and $\\rho_{eff}$ have zeros in every row (and column) associated with the boundary conditions, we can define minor matrices for each with those rows/columns removed entirely,\n",
    "\n",
    "$$\n",
    "  \\Delta^\\prime \\phi^\\prime = -\\rho^\\prime,\n",
    "$$\n",
    "\n",
    "along with an integer array, `freetofull`, with the same length as $\\rho^\\prime$ and which maps from its own indices to the corresponding indices in the original, full $\\phi$ and $\\rho$ vectors. This allows us to reduce the size of the problem and speed up the algorithm by making a clean distinction between the components of the potential representing boundary conditions and the components whose values we can actually optimize."
   ]
  },
  {
   "cell_type": "markdown",
   "metadata": {},
   "source": [
    "### Implementation\n",
    "\n",
    "My Laplacian.jl module implements, in order of increasing abstraction:\n",
    "\n",
    "* ($\\delta$ or `kronecker`), __a Kronecker delta matrix function__ that takes arbitrary anonymous functions $f_i$ and $f_j$ (of row and column number, respectively) as arguments, and generates a matrix of arbitrary size whose elements are $\\delta_{f_i,f_j}$, allowing for convenient translation of the above formulas\n",
    "* (`lap`), __a Laplacian matrix function__ that uses `kronecker` along with the above formula for $\\Delta$ to produce a Laplacian operator matrix for a square grid, given a particular side length and number of subdivisions in each direction.\n",
    "* (`findfree`), __a function that produces an array mapping its indices to the free indices of the full matrix__ and which takes as its arguments the size of the full matrix ($N^2$) and a list of indices whose values are fixed as boundary conditions\n",
    "* (`opsplit`), __a function for splitting $\\Delta$ into free and boundary parts__ that takes an $N \\times N$ Laplacian matrix (or, in general, a matrix) and an integer array giving the indices of boundary conditions, and returns the tuple ($\\Delta_{free}$, $\\Delta_{boundary}$) as output.\n",
    "* (`rhoeff`), __a function for calculating $\\rho_{eff}$__ that takes $\\rho$, $\\Delta_{boundary}$, $\\phi_{boundary}$, and an array of the boundary condition indices as input.\n",
    "\n",
    "__Going forward, I will drop the subscripts in the above version of Poisson's equation unless otherwise specified for the sake of simplicity.__ "
   ]
  },
  {
   "cell_type": "code",
   "execution_count": null,
   "metadata": {
    "collapsed": true
   },
   "outputs": [],
   "source": []
  }
 ],
 "metadata": {
  "kernelspec": {
   "display_name": "Julia 0.3.7",
   "language": "julia",
   "name": "julia 0.3"
  },
  "language_info": {
   "name": "julia",
   "version": "0.3.7"
  }
 },
 "nbformat": 4,
 "nbformat_minor": 0
}
